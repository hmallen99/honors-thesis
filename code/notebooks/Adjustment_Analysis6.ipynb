{
 "cells": [
  {
   "cell_type": "code",
   "execution_count": 427,
   "metadata": {
    "ExecuteTime": {
     "end_time": "2019-11-28T00:31:50.317455Z",
     "start_time": "2019-11-28T00:31:50.313792Z"
    }
   },
   "outputs": [],
   "source": [
    "import re\n",
    "import os\n",
    "import numpy as np\n",
    "import pandas as pd\n",
    "import matplotlib.pyplot as plt\n",
    "from lmfit import Model\n",
    "from numpy import exp, loadtxt, pi, sqrt, std, mean, add\n",
    "import scipy\n",
    "import scikits.bootstrap as bootstrap\n",
    "from statistics import stdev \n",
    "from scipy import stats\n",
    "import scipy.special as sps"
   ]
  },
  {
   "cell_type": "markdown",
   "metadata": {},
   "source": [
    "### Parameters"
   ]
  },
  {
   "cell_type": "code",
   "execution_count": 428,
   "metadata": {},
   "outputs": [],
   "source": [
    "#### change path here\n",
    "#path = \"/Users/mauromanassi/Dropbox/Cristina Radiologist/Data_Analyze/data/Radiologists/\" # must have \"/\" at the end\n",
    "path = os.getcwd()\n",
    "path = path + \"/\"\n",
    "\n",
    "#### User's Input\n",
    "halfway = 90 # circular space correction 74for morphs\n",
    "step = 15 # for running mean, how wide to run avg.\n",
    "nBack = 1 # how many trials to go back/forward if+ 1Back if- 1Forward\n",
    "\n",
    "timecutoff = 200 # if exceeds this RT, then filtered\n",
    "ErrorCutoff = 40 # for error (bar - gabor) filter\n",
    "SDcutoffYN = 0\n",
    "polynum = 8 # polynomial correction, highest exponent\n",
    "\n",
    "#### DoG Parameters\n",
    "guessA = 6 # DoG, a\n",
    "guessB = 0.03 # 0.03 DoG, b guess (different meaning from b in graph, here's math one, in graph is width)\n",
    "a_constraint = 40 # constraint -- max of a in fitting process\n",
    "a_constraint_min = -40\n",
    "b_constraint = 40 # constraint -- max of a in fitting process\n",
    "b_constraint_min = -40\n",
    "\n",
    "#### Control console\n",
    "TimelimitYN = 1 # remove over-RT?\n",
    "FilterYN = 1 # Filter?\n",
    "polyYN = 0 # do polynomial correction?\n",
    "DoGYN = 1 # plot DoG curve?\n",
    "bootstrapYN = 0 # do bootstrap sampling?\n",
    "permYN = 0 # do permutation sampling?\n",
    "\n",
    "IterBoot = 5000\n",
    "bsSize = IterBoot\n",
    "IterPerm = 5000\n",
    "permSize = IterPerm\n"
   ]
  },
  {
   "cell_type": "markdown",
   "metadata": {},
   "source": [
    "### Looks For Files In Folder"
   ]
  },
  {
   "cell_type": "code",
   "execution_count": 429,
   "metadata": {},
   "outputs": [
    {
     "name": "stdout",
     "output_type": "stream",
     "text": [
      "FILES:\n",
      "['AS_SD_Long_2020_Feb_10_1241.csv']\n"
     ]
    }
   ],
   "source": [
    "##### read all csv files\n",
    "files = os.listdir(path)\n",
    "files_csv = list(filter(lambda x: x[-4:] == '.csv' , files))\n",
    "\n",
    "FileNameList = []\n",
    "for file in files_csv:\n",
    "    FileName = file[-7:-4]\n",
    "    FileNameList.append(FileName)\n",
    "\n",
    "##### if result exists, don't run function again\n",
    "ResultPath = path + 'results/'\n",
    "\n",
    "##### show files to analyze\n",
    "print('FILES:')\n",
    "print(files_csv)"
   ]
  },
  {
   "cell_type": "markdown",
   "metadata": {},
   "source": [
    "### Data Assembling"
   ]
  },
  {
   "cell_type": "code",
   "execution_count": 430,
   "metadata": {},
   "outputs": [
    {
     "name": "stdout",
     "output_type": "stream",
     "text": [
      "1 subject(s). 4.0 blocks. 100.0 trials/blocks. 400.0 total trials.\n"
     ]
    }
   ],
   "source": [
    "# define a void list to store data\n",
    "data_list = []\n",
    "\n",
    "# transformation\n",
    "num_filter = re.compile(r'\\d+')\n",
    "\n",
    "#read useful columns, save in data_list\n",
    "for file in  files_csv:\n",
    "    tmp = (pd.read_csv(path + file)[['Gabor_Orient', 'AdjResp', 'AdjTime', 'trialsLoop.thisRepN', 'blocksLoop.thisRepN']])\n",
    "    data_list.append(tmp)\n",
    "# cat all datas\n",
    "all_data_with_training = pd.concat(data_list)\n",
    "all_data_with_training.head()\n",
    "\n",
    "# removing training blocks\n",
    "#all_data = all_data_with_training[all_data_with_training['blockType'] != 'training']\n",
    "all_data = all_data_with_training\n",
    "\n",
    "# computes trial number per block, block number and total trial number\n",
    "subjects = len(files_csv) #only for online studies\n",
    "blocks = (np.nanmax(all_data['blocksLoop.thisRepN']))+1 #+1 because it starts at 0\n",
    "trials = (np.nanmax(all_data['trialsLoop.thisRepN']))+1 #+1 because it starts at 0\n",
    "TotalTrial = blocks * trials\n",
    "print(subjects,'subject(s).',blocks,'blocks.', trials,'trials/blocks.', TotalTrial,'total trials.')\n",
    "    \n",
    "# delete invalid rows and useless columns\n",
    "all_data.dropna(axis = 0, how = 'any', inplace = True) # exclude NaN (often between blocks)\n",
    "plot_data = all_data.reset_index() #re-index and deleted unnecessary columns\n",
    "del plot_data['index']\n"
   ]
  },
  {
   "cell_type": "markdown",
   "metadata": {},
   "source": [
    "### X-axis and Y-axis plotting"
   ]
  },
  {
   "cell_type": "code",
   "execution_count": 431,
   "metadata": {},
   "outputs": [
    {
     "name": "stdout",
     "output_type": "stream",
     "text": [
      "Response Error SD = 13.33 , 4.0 trials removed\n",
      "Response Error SD = 13.581511487670758\n"
     ]
    }
   ],
   "source": [
    "\n",
    "# make xdata(x) and ydata(y) into list\n",
    "xdata = []\n",
    "ydata = []\n",
    "zdata = []\n",
    "PreStim = []\n",
    "CurrStim = []\n",
    "PreResp = []\n",
    "CurrResp = []\n",
    "\n",
    "for i in np.arange(blocks): #all blocks 8\n",
    "    for e in np.arange(trials-nBack): #all trials\n",
    "        if (plot_data['AdjTime'][e+1])<timecutoff: # time cutoff\n",
    "            #if ((plot_data['RespORIis'][e]==1) and (plot_data['RespORIis'][e+nBack]==1)) or ((plot_data['RespORIis'][e]==0) and (plot_data['RespORIis'][e+nBack]==1)):\n",
    "            #if ((plot_data['RespORIis'][e]==1) and (plot_data['RespORIis'][e+nBack]==1)):\n",
    "            #if ((plot_data['RespORIis'][e]==0) and (plot_data['RespORIis'][e+nBack]==1)):\n",
    "        \n",
    "\n",
    "                #PreStim = np.concatenate((PreStim, (plot_data['stimOrientation'][e+(trials*i)])), axis=None)\n",
    "                #CurrStim = np.concatenate((CurrStim, (plot_data['stimOrientation'][(e+1)+(trials*i)])), axis=None)\n",
    "                #PreResp = np.concatenate((PreResp, (plot_data['BioResp'][e+(trials*i)])), axis=None)\n",
    "                #CurrResp = np.concatenate((CurrResp, (plot_data['BioResp'][(e+1)+(trials*i)])), axis=None)\n",
    "\n",
    "                PreStim.append(plot_data.loc[(plot_data['trialsLoop.thisRepN'] == e) & (plot_data['blocksLoop.thisRepN'] == i)]['Gabor_Orient'].values[0])\n",
    "                CurrStim.append(plot_data.loc[(plot_data['trialsLoop.thisRepN'] == e+nBack) & (plot_data['blocksLoop.thisRepN'] == i)]['Gabor_Orient'].values[0])\n",
    "                PreResp.append(plot_data.loc[(plot_data['trialsLoop.thisRepN'] == e) & (plot_data['blocksLoop.thisRepN'] == i)]['AdjResp'].values[0])\n",
    "                CurrResp.append(plot_data.loc[(plot_data['trialsLoop.thisRepN'] == e+nBack) & (plot_data['blocksLoop.thisRepN'] == i)]['AdjResp'].values[0])\n",
    "\n",
    "xdata = np.array(PreStim)-np.array(CurrStim) # RELATIVE ORIENTATION\n",
    "ydata = np.array(CurrResp)-np.array(CurrStim) # ERROR\n",
    "CurrStim = np.array(CurrStim)\n",
    "\n",
    "# adjust degree (-90~89 in this exp)\n",
    "for i in range(0,len(xdata)):\n",
    "    while xdata[i] > halfway - 1:\n",
    "        xdata[i] = xdata[i] - 2 * halfway\n",
    "    while xdata[i] < -halfway:\n",
    "        xdata[i] = xdata[i] + 2 * halfway\n",
    "\n",
    "    while ydata[i] > halfway - 1:\n",
    "        ydata[i] = ydata[i] - 2 * halfway\n",
    "    while ydata[i] < -halfway:\n",
    "        ydata[i] = ydata[i] + 2 * halfway\n",
    "    \n",
    "# Filter for outliers in error(ydata)\n",
    "if SDcutoffYN:\n",
    "    ErrorCutoff = 2 * std(ydata)    \n",
    "if FilterYN == 1:\n",
    "    xdata = xdata[abs(ydata) < ErrorCutoff]\n",
    "    CurrStim = CurrStim[abs(ydata) < ErrorCutoff]\n",
    "    ydata = ydata[abs(ydata) < ErrorCutoff]\n",
    "    print(\"Response Error SD =\",round(ErrorCutoff / 3,2), \",\",TotalTrial - len(ydata),\"trials removed\")\n",
    "\n",
    "print(\"Response Error SD =\",stdev(ydata))\n",
    "\n",
    "\n",
    "# POLYNOMIAL CORRECTION\n",
    "if polyYN == 1:\n",
    "    coefs = np.polyfit(CurrStim, ydata, polynum) # polynomial coefs\n",
    "    error_before_poly = ydata # original ydata (for plot)\n",
    "    PolyLine = np.polyval(coefs, np.array(range(-halfway,halfway+1))) # continuous line (for plot)\n",
    "    corrected_part = np.polyval(coefs, CurrStim) # generated new data (for plot and subtraction)\n",
    "    ydata = ydata - corrected_part\n",
    "\n",
    "    # poly fig\n",
    "    plt.axis([-halfway, halfway, -40, 40])\n",
    "    plt.plot(xdata, error_before_poly, 'bo', label='before poly')\n",
    "    plt.plot(np.array(range(-halfway, halfway + 1)), PolyLine, label = 'poly', color = 'r', linewidth = 3)\n",
    "    plt.plot(xdata, corrected_part, 'bo', label = 'polyval', color = 'g', linewidth = 3)\n",
    "    title = \"Polynomial Correction\"\n",
    "    plt.title(title, fontsize = 20)\n",
    "    plt.xlabel(\"Current Shape Morph\", fontsize = 15)\n",
    "    plt.ylabel(\"Error\", fontsize = 15)\n",
    "    plt.tick_params(labelsize = 15)\n",
    "    plt.legend()\n",
    "    plt.show()\n",
    "    plt.clf()\n",
    "            "
   ]
  },
  {
   "cell_type": "markdown",
   "metadata": {},
   "source": [
    "### More Complex Stuff"
   ]
  },
  {
   "cell_type": "code",
   "execution_count": 432,
   "metadata": {
    "ExecuteTime": {
     "end_time": "2019-11-28T01:09:59.030481Z",
     "start_time": "2019-11-28T01:09:58.833622Z"
    }
   },
   "outputs": [
    {
     "name": "stdout",
     "output_type": "stream",
     "text": [
      "Amplitude = 2.81 Width = 11.0\n"
     ]
    }
   ],
   "source": [
    "#compensates for biases\n",
    "ydata = ydata-np.mean(ydata)\n",
    "\n",
    "# RUNNING MEAN\n",
    "RM = [None] * (2 * halfway + 1); # running mean initialization\n",
    "xvals = list(range(-halfway, halfway + 1)) # index for running mean -90~90 + -90~90 (avoid error in sep[jj] == 91\\92...)\n",
    "allx_vals = xvals + xvals\n",
    "for ii in range(0,len(xvals) - 1): # start running mean calculation 0~180\n",
    "    if ii - step // 2 >= 0:\n",
    "        sep = allx_vals[(ii - step // 2) : (ii + step // 2 + 1)] # symmetric to avoid shift\n",
    "    else:\n",
    "        sep = allx_vals[(ii - step // 2) : len(allx_vals)] + allx_vals[0 : (ii + step // 2 + 1)]\n",
    "    sep_sum = []\n",
    "    for jj in range(0,len(sep)): # match every value in sep to every xdata point\n",
    "        for kk in range(0, len(xdata)):\n",
    "            if xdata[kk] == sep[jj]:\n",
    "                sep_sum.insert(0, ydata[kk])\n",
    "    RM[ii] = np.mean(sep_sum)\n",
    "RM[2 * halfway] = RM[0]\n",
    "\n",
    "# DoG FUNCTION\n",
    "c = sqrt(2)/exp(-.5) # DoG param c\n",
    "def gaussian(xdata, a = guessA, b = guessB):\n",
    "    \"\"\"1st order derivative gaussian: gaussian(xdata, a (peak to zero), b (0 to peak->x))\"\"\"\n",
    "    return (a * b * c * xdata * exp(-((b * xdata) ** 2))) # Derivative of Gaussian formula\n",
    "\n",
    "# Fitting\n",
    "gmodel = Model(gaussian) # implement the model into this gmodel toolbox\n",
    "gmodel.set_param_hint('a', max = a_constraint)\n",
    "gmodel.set_param_hint('a', min = a_constraint_min)\n",
    "gmodel.set_param_hint('b', max = b_constraint)\n",
    "gmodel.set_param_hint('b', min = b_constraint_min)\n",
    "result = gmodel.fit(ydata, xdata = xdata, b = guessB) # from this toolbox get the result\n",
    "\n",
    "# print output a and b\n",
    "best_values = result.best_values\n",
    "a = best_values['a'] # get best_values a\n",
    "\n",
    "# Sort to prepare plot\n",
    "sorted_indices = np.argsort(xdata)\n",
    "xdata = xdata[sorted_indices]\n",
    "ydata = ydata[sorted_indices]\n",
    "result.best_fit = result.best_fit[sorted_indices]\n",
    "\n",
    "# get peak index and process width (b)\n",
    "bIndex = np.where(result.best_fit == np.max(result.best_fit)) # fit peak, get index and put it in xdata to get b\n",
    "bIndex = round(mean(bIndex))\n",
    "b = xdata[int(bIndex)]\n",
    "print(\"Amplitude =\",round(a,2),\"Width =\",b) # print best output\n"
   ]
  },
  {
   "cell_type": "markdown",
   "metadata": {},
   "source": [
    "### Plotting"
   ]
  },
  {
   "cell_type": "code",
   "execution_count": 433,
   "metadata": {
    "scrolled": true
   },
   "outputs": [
    {
     "data": {
      "image/png": "[encoded data removed]",
      "text/plain": [
       "<Figure size 432x288 with 1 Axes>"
      ]
     },
     "metadata": {
      "needs_background": "light"
     },
     "output_type": "display_data"
    },
    {
     "data": {
      "text/plain": [
       "<Figure size 432x288 with 0 Axes>"
      ]
     },
     "metadata": {},
     "output_type": "display_data"
    }
   ],
   "source": [
    "fig1 = plt.gcf()\n",
    "\n",
    "plt.axis([-100, 100, -50, 50])\n",
    "plt.xticks(np.arange(-90, 90+1, 45))\n",
    "\n",
    "plt.plot(xdata, ydata, 'bo', label = 'trial points', alpha = 0.2, markerfacecolor='blue',markeredgecolor='white',markeredgewidth=0)\n",
    "if DoGYN == 1:\n",
    "    plt.plot(xdata, result.best_fit, 'r-', label = 'DoG', color = 'k', linewidth = 5)\n",
    "    f=(np.argmin(result.best_fit)) #19 max\n",
    "    #print(f)\n",
    "    #print(xdata[f])\n",
    "plt.plot(xvals, RM, label = 'Running Mean', color = 'g', linewidth = 3)\n",
    "title = \"a = \" + str(round(a, 3)) + \"   b = \" + str(round(b, 3)) + \"   trials = \" + str(len(xdata))\n",
    "plt.title(title, fontsize = 20)\n",
    "plt.xlabel(\"Previous Or. - Current Or.\", fontsize = 15)\n",
    "plt.ylabel(\"Current Resp. - Current Or.\", fontsize = 15)\n",
    "plt.tick_params(labelsize = 15)\n",
    "plt.legend()\n",
    "    \n",
    "# Linear Regression Plot\n",
    "IndexLocation2 = (np.logical_and(xdata > -29+1, xdata < 29+1)) #if ALL 46\n",
    "ydata2 = ydata[IndexLocation2] # desired output is ['o','o','a']\n",
    "xdata2 = xdata[IndexLocation2] # desired output is ['o','o','a']\n",
    "    \n",
    "m,b = np.polyfit(xdata2, ydata2, 1)\n",
    "coef = np.polyfit(xdata2,ydata2,1)\n",
    "poly1d_fn = np.poly1d(coef)\n",
    "plt.plot(xdata2, poly1d_fn(xdata2), '--r', linewidth = 2)\n",
    "#print(m,b)\n",
    "    \n",
    "    \n",
    "plt.show()\n",
    "FigName = path + 'Graph1.png'\n",
    "\n",
    "fig1.tight_layout()\n",
    "fig1.savefig(FigName, dpi=600)\n",
    "\n",
    "plt.clf()"
   ]
  },
  {
   "cell_type": "markdown",
   "metadata": {},
   "source": [
    "### BOOTSTRAP and PERMUTATION"
   ]
  },
  {
   "cell_type": "code",
   "execution_count": 435,
   "metadata": {},
   "outputs": [],
   "source": [
    "\n",
    "# used for faster bootstrap and permutation\n",
    "def CurvefitFunc(xdataNEW,ydataNEW):\n",
    "    result = gmodel.fit(ydataNEW, xdata = xdataNEW, a = guessA, b = guessB)\n",
    "    best_values = result.best_values\n",
    "    a = best_values['a'] # get best_values a\n",
    "    b = best_values['b'] # get best_values b\n",
    "    return(a,b)\n",
    "\n",
    "# BOOTSTRAP\n",
    "if bootstrapYN == 1:\n",
    "    print('BOOTSTRAP')\n",
    "    # bs_a, bs_b = repeate_sampling('bs', xdata, ydata, CurvefitFunc, size = bsSize)\n",
    "    OutA = np.empty(bsSize) # Output a array, store each trial's a\n",
    "    OutB = np.empty(bsSize) # Output b array, store each trial's b\n",
    "    for i in range(bsSize):\n",
    "        RandIndex = np.random.randint(len(xdata), size = len(xdata)) # get randi index of xdata\n",
    "        xdataNEW = xdata[RandIndex] # change xdata index\n",
    "        ydataNEW = ydata[RandIndex] # change ydata index\n",
    "        OutA[i], OutB[i]= CurvefitFunc(xdataNEW,ydataNEW) # bootstrap make a sample * range(size) times\n",
    "    bs_a = OutA\n",
    "    print(\"bs_a:\",round(mean(bs_a),2),\"\t95% CI:\",np.percentile(bs_a,[2.5,97.5]))\n",
    "    plt.hist(bs_a, bins = 50, density = True)\n",
    "    plt.show()\n",
    "\n",
    "# PERMUTATION\n",
    "if permYN == 1:\n",
    "    print('PERMUTATION')\n",
    "    # perm_a, perm_b = repeate_sampling('perm', xdata, ydata, CurvefitFunc, size = permSize)\n",
    "    OutA = np.empty(permSize) # Output a array, store each trial's a\n",
    "    OutB = np.empty(permSize) # Output b array, store each trial's b\n",
    "    perm_xdata = xdata\n",
    "    for i in range(permSize):\n",
    "        perm_xdata = np.random.permutation(perm_xdata) # permutate nonlocal xdata to update, don't change ydata\n",
    "        OutA[i], OutB[i] = CurvefitFunc(perm_xdata,ydata) # permutation make a sample * range(size) times\n",
    "    perm_a = OutA\n",
    "    print(\"perm_a:\",round(mean(perm_a),2),\"\t90% CI:\",np.percentile(perm_a,[5,95]))\n",
    "    plt.hist(perm_a, bins = 50, density = True)\n",
    "    plt.show()  \n",
    "    \n",
    "    \n",
    "\n",
    "#ISI[trialsLoop.thisRepN+((99)*blocksLoop.thisRepN)]"
   ]
  }
 ],
 "metadata": {
  "kernelspec": {
   "display_name": "Python 3",
   "language": "python",
   "name": "python3"
  },
  "language_info": {
   "codemirror_mode": {
    "name": "ipython",
    "version": 3
   },
   "file_extension": ".py",
   "mimetype": "text/x-python",
   "name": "python",
   "nbconvert_exporter": "python",
   "pygments_lexer": "ipython3",
   "version": "3.7.3"
  },
  "toc": {
   "base_numbering": 1,
   "nav_menu": {},
   "number_sections": true,
   "sideBar": true,
   "skip_h1_title": false,
   "title_cell": "Table of Contents",
   "title_sidebar": "Contents",
   "toc_cell": false,
   "toc_position": {},
   "toc_section_display": true,
   "toc_window_display": false
  }
 },
 "nbformat": 4,
 "nbformat_minor": 2
}
