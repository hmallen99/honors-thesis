{
 "nbformat": 4,
 "nbformat_minor": 2,
 "metadata": {
  "language_info": {
   "name": "python",
   "codemirror_mode": {
    "name": "ipython",
    "version": 3
   },
   "version": "3.7.4-final"
  },
  "orig_nbformat": 2,
  "file_extension": ".py",
  "mimetype": "text/x-python",
  "name": "python",
  "npconvert_exporter": "python",
  "pygments_lexer": "ipython3",
  "version": 3,
  "kernelspec": {
   "name": "python37464bitbasecondaf27d1e3d2be14389aa043e1e0af2486c",
   "display_name": "Python 3.7.4 64-bit ('base': conda)"
  }
 },
 "cells": [
  {
   "cell_type": "code",
   "execution_count": 1,
   "metadata": {},
   "outputs": [],
   "source": [
    "import numpy as np\n",
    "import MEG_analysis as meg\n",
    "import mne"
   ]
  },
  {
   "cell_type": "code",
   "execution_count": 5,
   "metadata": {},
   "outputs": [],
   "source": [
    "folder = meg.get_folder_dict()"
   ]
  },
  {
   "cell_type": "code",
   "execution_count": 6,
   "metadata": {},
   "outputs": [
    {
     "name": "stdout",
     "output_type": "stream",
     "text": "['../../../../MEG_raw01/161101_amano_SD/20161101_1335_SD_68_IASoff_raw.fif', '../../../../MEG_raw01/161101_amano_SD/20161101_1345_SD_68_IASoff_raw.fif', '../../../../MEG_raw01/161101_amano_SD/20161101_1354_SD_68_IASoff_raw.fif', '../../../../MEG_raw01/161101_amano_SD/20161101_1403_SD_68_IASoff_raw.fif', '../../../../MEG_raw01/161101_amano_SD/20161101_1412_SD_68_IASoff_raw.fif', '../../../../MEG_raw01/161101_amano_SD/20161101_1421_SD_68_IASoff_raw.fif', '../../../../MEG_raw01/161101_amano_SD/20161101_1430_SD_68_IASoff_raw.fif', '../../../../MEG_raw01/161101_amano_SD/20161101_1439_SD_68_IASoff_raw.fif']\n"
    }
   ],
   "source": [
    "meg.get_raw(folder['../../../../MEG_raw01/161101_amano_SD'])"
   ]
  },
  {
   "cell_type": "code",
   "execution_count": null,
   "metadata": {},
   "outputs": [],
   "source": []
  }
 ]
}