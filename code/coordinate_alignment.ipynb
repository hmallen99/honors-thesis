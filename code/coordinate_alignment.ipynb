{
 "cells": [
  {
   "cell_type": "code",
   "execution_count": 1,
   "metadata": {},
   "outputs": [],
   "source": [
    "import mne\n",
    "import re\n",
    "import os\n",
    "import numpy as np\n",
    "import source_localization as srcl\n",
    "import MEG_analysis as meg"
   ]
  },
  {
   "cell_type": "code",
   "execution_count": 2,
   "metadata": {},
   "outputs": [],
   "source": [
    "home = '../../../../MEG_raw01/'\n",
    "home_folders = os.listdir(home)\n",
    "home_folders = [os.path.join(home, entry) for entry in home_folders if re.findall(r\"^\\w+\", entry)]\n",
    "folder_dict = {}\n",
    "for folder in home_folders:\n",
    "    entries = os.listdir(folder)\n",
    "    folder_dict[folder] = [os.path.join(folder, entry) for entry in entries if re.findall(r\"^\\w+SD_\\w*raw.fif\", entry)]\n",
    "\n",
    "subj = 'NNo'\n",
    "meg_dir = '../../../../MEG_raw01/170808_noguchi_SD'\n",
    "load = False\n",
    "source_localization_dir = \"/usr/local/freesurfer/subjects\""
   ]
  },
  {
   "cell_type": "code",
   "execution_count": 3,
   "metadata": {},
   "outputs": [
    {
     "name": "stdout",
     "output_type": "stream",
     "text": [
      "Executing ICA\n",
      "Fitting ICA to data using 204 channels (please be patient, this may take a while)\n",
      "Inferring max_pca_components from picks\n",
      "Selection by number: 20 components\n",
      "Fitting ICA took 75.1s.\n",
      "Transforming to ICA space (20 components)\n",
      "Zeroing out 2 ICA components\n",
      "Epoching Data\n",
      "847 events found\n",
      "Event IDs: [16384 32768]\n",
      "801 matching events found\n",
      "Applying baseline correction (mode: mean)\n",
      "Not setting metadata\n",
      "Created an SSP operator (subspace dimension = 5)\n",
      "10 projection items activated\n",
      "Loading data for 801 events and 1501 original time points ...\n"
     ]
    },
    {
     "name": "stderr",
     "output_type": "stream",
     "text": [
      "/media/whitney/New Volume/Yuki/MNE_analysis/honors-thesis/honors-thesis/code/MEG_analysis.py:51: RuntimeWarning: Trigger channel contains negative values, using absolute value. If data were acquired on a Neuromag system with STI016 active, consider using uint_cast=True to work around an acquisition bug\n",
      "  events = mne.find_events(data)\n",
      "/media/whitney/New Volume/Yuki/MNE_analysis/honors-thesis/honors-thesis/code/MEG_analysis.py:52: RuntimeWarning: Projection vector \"grad_68_noIAS_20140702-2.fif : PCA-v1\" has magnitude 0.91 (should be unity), applying projector with 204/240 of the original channels available may be dangerous, consider recomputing and adding projection vectors for channels that are eventually used. If this is intentional, consider using info.normalize_proj()\n",
      "  epochs = mne.Epochs(data, events, event_id=16384, tmin=-0.5, tmax = 1, reject = reject)\n",
      "/media/whitney/New Volume/Yuki/MNE_analysis/honors-thesis/honors-thesis/code/MEG_analysis.py:52: RuntimeWarning: Projection vector \"grad_68_noIAS_20140702-2.fif : PCA-v2\" has magnitude 0.93 (should be unity), applying projector with 204/240 of the original channels available may be dangerous, consider recomputing and adding projection vectors for channels that are eventually used. If this is intentional, consider using info.normalize_proj()\n",
      "  epochs = mne.Epochs(data, events, event_id=16384, tmin=-0.5, tmax = 1, reject = reject)\n",
      "/media/whitney/New Volume/Yuki/MNE_analysis/honors-thesis/honors-thesis/code/MEG_analysis.py:52: RuntimeWarning: Projection vector \"grad_68_noIAS_20140702-2.fif : PCA-v3\" has magnitude 0.90 (should be unity), applying projector with 204/240 of the original channels available may be dangerous, consider recomputing and adding projection vectors for channels that are eventually used. If this is intentional, consider using info.normalize_proj()\n",
      "  epochs = mne.Epochs(data, events, event_id=16384, tmin=-0.5, tmax = 1, reject = reject)\n",
      "/media/whitney/New Volume/Yuki/MNE_analysis/honors-thesis/honors-thesis/code/MEG_analysis.py:52: RuntimeWarning: Projection vector \"grad_68_noIAS_20140702-2.fif : PCA-v4\" has magnitude 0.93 (should be unity), applying projector with 204/240 of the original channels available may be dangerous, consider recomputing and adding projection vectors for channels that are eventually used. If this is intentional, consider using info.normalize_proj()\n",
      "  epochs = mne.Epochs(data, events, event_id=16384, tmin=-0.5, tmax = 1, reject = reject)\n",
      "/media/whitney/New Volume/Yuki/MNE_analysis/honors-thesis/honors-thesis/code/MEG_analysis.py:52: RuntimeWarning: Projection vector \"grad_68_noIAS_20140702-2.fif : PCA-v5\" has magnitude 1.00 (should be unity), applying projector with 204/240 of the original channels available may be dangerous, consider recomputing and adding projection vectors for channels that are eventually used. If this is intentional, consider using info.normalize_proj()\n",
      "  epochs = mne.Epochs(data, events, event_id=16384, tmin=-0.5, tmax = 1, reject = reject)\n"
     ]
    },
    {
     "name": "stdout",
     "output_type": "stream",
     "text": [
      "0 bad epochs dropped\n",
      "Plotting Evoked\n",
      "    Reading a source space...\n",
      "    Computing patch statistics...\n",
      "    Patch information added...\n",
      "    Distance information added...\n",
      "    [done]\n",
      "    Reading a source space...\n",
      "    Computing patch statistics...\n",
      "    Patch information added...\n",
      "    Distance information added...\n",
      "    [done]\n",
      "    2 source spaces read\n"
     ]
    }
   ],
   "source": [
    "evoked, epochs, info = meg.process_data(folder_dict[meg_dir], 0)\n",
    "#evoked.save('../Data/Evoked/%s-ave.fif' % subj)\n",
    "#epochs.save('../Data/Epochs/%s-epo.fif' % subj)\n",
    "#src = srcl.create_source_space(subj, source_localization_dir, save=True)\n",
    "#bem = srcl.make_bem(subj, source_localization_dir, save=True)\n",
    "src = srcl.get_source_space(\"../Data/SourceSpaces/%s-oct6-src.fif\" % subj)"
   ]
  },
  {
   "cell_type": "code",
   "execution_count": null,
   "metadata": {},
   "outputs": [
    {
     "name": "stdout",
     "output_type": "stream",
     "text": [
      "Getting helmet for system 306m\n"
     ]
    }
   ],
   "source": [
    "mne.viz.plot_alignment(info, trans=None, subject=subj, src=src,\n",
    "                       subjects_dir=source_localization_dir, dig=True, \n",
    "                       surfaces=['white'], coord_frame='meg')"
   ]
  },
  {
   "cell_type": "code",
   "execution_count": null,
   "metadata": {},
   "outputs": [],
   "source": [
    "cov = mne.compute_covariance(epochs, tmax=0., method=['shrunk', 'empirical'], rank=None, verbose=True)\n",
    "fwd = srcl.make_forward_sol(evoked, src, bem)\n",
    "inv_op = srcl.make_inverse_operator(evoked, fwd, cov)\n",
    "stc, residual = srcl.apply_inverse(evoked, inv_op)\n",
    "#residual.plot_topo(title='Residual Plot', show=False).savefig('../Figures/%s_residual_erf.pdf' % subj)\n",
    "stc_fsaverage = srcl.morph_to_fsaverage(stc, subj)"
   ]
  }
 ],
 "metadata": {
  "kernelspec": {
   "display_name": "Python 3",
   "language": "python",
   "name": "python3"
  },
  "language_info": {
   "codemirror_mode": {
    "name": "ipython",
    "version": 3
   },
   "file_extension": ".py",
   "mimetype": "text/x-python",
   "name": "python",
   "nbconvert_exporter": "python",
   "pygments_lexer": "ipython3",
   "version": "3.7.4"
  }
 },
 "nbformat": 4,
 "nbformat_minor": 2
}
